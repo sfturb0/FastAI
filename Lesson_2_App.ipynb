{
 "cells": [
  {
   "cell_type": "code",
   "execution_count": 6,
   "id": "536c4cda-ff3a-4baf-b9cb-311f8ab5cc18",
   "metadata": {
    "tags": []
   },
   "outputs": [],
   "source": [
    "# Voila\n",
    "# jupyter: voila\n",
    "# path: FastAI/Lesson_2_App.ipynb"
   ]
  },
  {
   "cell_type": "code",
   "execution_count": 1,
   "id": "e99843c4-89d0-4ec8-8a43-10878077b86f",
   "metadata": {
    "tags": []
   },
   "outputs": [],
   "source": [
    "\n",
    "# create an app from model\n",
    "\n",
    "from fastai.vision.all import *\n",
    "from fastai.vision.widgets import *\n"
   ]
  },
  {
   "cell_type": "code",
   "execution_count": 2,
   "id": "50ebc77c-2403-4a44-a4e8-4da5ff0437f5",
   "metadata": {
    "tags": []
   },
   "outputs": [],
   "source": [
    "\n",
    "# set up basic elements for app in Jupyter environment\n",
    "# upload image; display it; process with trained model; display prediction results\n",
    "\n",
    "path = Path()   # without arguments, points to current working dir\n",
    "learn_inf = load_learner(path/'export.pkl', cpu=True)  # loads trained model from path, loads to CPU\n",
    "btn_upload = widgets.FileUpload()  # create upload button widget\n",
    "out_pl = widgets.Output()  # creates output widget where results can display\n",
    "lbl_pred = widgets.Label()  # creates label to display text\n"
   ]
  },
  {
   "cell_type": "code",
   "execution_count": 3,
   "id": "0f0ed6f5-4849-4b7a-8c5c-0e801f5972c1",
   "metadata": {
    "tags": []
   },
   "outputs": [],
   "source": [
    "\n",
    "# event handler triggered on new data from widget:\n",
    "\n",
    "def on_data_change(change):\n",
    "    lbl_pred.value = ''  # clear previous value\n",
    "    img = PILImage.create(btn_upload.data[-1])  # retrieve latest upload from upload widget, create PIL\n",
    "    out_pl.clear_output()  # clear prev output\n",
    "    with out_pl: display(img.to_thumb(128, 128))  # subsequent display will output to to out_pl widget\n",
    "    pred, pred_idx, probs = learn_inf.predict(img)  # model makes prediction on uploaded image\n",
    "    lbl_pred.value = f'Prediction: {pred} ; Probability: {probs[pred_idx]:.04f}'  # result is formatted into string and displayed in label widget\n",
    "    "
   ]
  },
  {
   "cell_type": "code",
   "execution_count": 4,
   "id": "ae87ac89-5798-4bd9-aa02-9a5b7d1e8d55",
   "metadata": {
    "tags": []
   },
   "outputs": [],
   "source": [
    "\n",
    "# link above function responsive to data change in btn_upload widget:\n",
    "\n",
    "btn_upload.observe(on_data_change, names=['data'])\n",
    "\n",
    "# every time new data is uploaded through btn_upload, function is AUTO triggered\n"
   ]
  },
  {
   "cell_type": "code",
   "execution_count": 5,
   "id": "52cac7a8-7c5c-4837-a339-73026b6165e5",
   "metadata": {},
   "outputs": [
    {
     "data": {
      "application/vnd.jupyter.widget-view+json": {
       "model_id": "22a172d2aa4a4643beb9b59a3e55e1cf",
       "version_major": 2,
       "version_minor": 0
      },
      "text/plain": [
       "VBox(children=(Label(value='Select your bear'), FileUpload(value={}, description='Upload'), Output(), Label(va…"
      ]
     },
     "metadata": {},
     "output_type": "display_data"
    }
   ],
   "source": [
    "\n",
    "# arrange and display widgets in vertical box\n",
    "# VBox - class of ipywidget\n",
    "# widgets.Label - static text label\n",
    "# btn_upload - file upload button\n",
    "# output_pl - output widget for image display\n",
    "# lbl_pred - widget to display prediction result\n",
    "\n",
    "\n",
    "display(VBox([widgets.Label('Select your bear'), btn_upload, out_pl, lbl_pred]))\n"
   ]
  },
  {
   "cell_type": "code",
   "execution_count": null,
   "id": "e3e3fb88-cfe6-4dfd-82dd-a02c9224627d",
   "metadata": {},
   "outputs": [],
   "source": []
  }
 ],
 "metadata": {
  "kernelspec": {
   "display_name": "Python 3 (ipykernel)",
   "language": "python",
   "name": "python3"
  },
  "language_info": {
   "codemirror_mode": {
    "name": "ipython",
    "version": 3
   },
   "file_extension": ".py",
   "mimetype": "text/x-python",
   "name": "python",
   "nbconvert_exporter": "python",
   "pygments_lexer": "ipython3",
   "version": "3.10.13"
  }
 },
 "nbformat": 4,
 "nbformat_minor": 5
}
